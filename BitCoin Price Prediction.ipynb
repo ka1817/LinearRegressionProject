{
 "cells": [
  {
   "cell_type": "markdown",
   "id": "004155a6",
   "metadata": {},
   "source": [
    "# Linear Regression Bit Coin Price Presdiction"
   ]
  },
  {
   "cell_type": "code",
   "execution_count": 2,
   "id": "71a34ada",
   "metadata": {},
   "outputs": [],
   "source": [
    "import pandas as pd\n",
    "import numpy as np\n",
    "import seaborn as sns\n",
    "import matplotlib.pyplot as plt\n",
    "%matplotlib inline"
   ]
  },
  {
   "cell_type": "code",
   "execution_count": 3,
   "id": "c09dd63b",
   "metadata": {},
   "outputs": [],
   "source": [
    "df = pd.read_csv(\"C:\\\\Users\\\\saipr\\\\Downloads\\\\dataset.csv\")\n"
   ]
  },
  {
   "cell_type": "code",
   "execution_count": 4,
   "id": "14065a9b",
   "metadata": {},
   "outputs": [
    {
     "data": {
      "text/html": [
       "<div>\n",
       "<style scoped>\n",
       "    .dataframe tbody tr th:only-of-type {\n",
       "        vertical-align: middle;\n",
       "    }\n",
       "\n",
       "    .dataframe tbody tr th {\n",
       "        vertical-align: top;\n",
       "    }\n",
       "\n",
       "    .dataframe thead th {\n",
       "        text-align: right;\n",
       "    }\n",
       "</style>\n",
       "<table border=\"1\" class=\"dataframe\">\n",
       "  <thead>\n",
       "    <tr style=\"text-align: right;\">\n",
       "      <th></th>\n",
       "      <th>Date</th>\n",
       "      <th>Value</th>\n",
       "      <th>Value_Classification</th>\n",
       "      <th>BTC_Closing</th>\n",
       "      <th>BTC_Volume</th>\n",
       "    </tr>\n",
       "  </thead>\n",
       "  <tbody>\n",
       "    <tr>\n",
       "      <th>0</th>\n",
       "      <td>2018-02-01</td>\n",
       "      <td>30.0</td>\n",
       "      <td>Fear</td>\n",
       "      <td>9170.540039</td>\n",
       "      <td>9959400448</td>\n",
       "    </tr>\n",
       "    <tr>\n",
       "      <th>1</th>\n",
       "      <td>2018-02-02</td>\n",
       "      <td>15.0</td>\n",
       "      <td>Extreme Fear</td>\n",
       "      <td>8830.750000</td>\n",
       "      <td>12726899712</td>\n",
       "    </tr>\n",
       "    <tr>\n",
       "      <th>2</th>\n",
       "      <td>2018-02-03</td>\n",
       "      <td>40.0</td>\n",
       "      <td>Fear</td>\n",
       "      <td>9174.910156</td>\n",
       "      <td>7263790080</td>\n",
       "    </tr>\n",
       "    <tr>\n",
       "      <th>3</th>\n",
       "      <td>2018-02-04</td>\n",
       "      <td>24.0</td>\n",
       "      <td>Extreme Fear</td>\n",
       "      <td>8277.009766</td>\n",
       "      <td>7073549824</td>\n",
       "    </tr>\n",
       "    <tr>\n",
       "      <th>4</th>\n",
       "      <td>2018-02-05</td>\n",
       "      <td>11.0</td>\n",
       "      <td>Extreme Fear</td>\n",
       "      <td>6955.270020</td>\n",
       "      <td>9285289984</td>\n",
       "    </tr>\n",
       "    <tr>\n",
       "      <th>...</th>\n",
       "      <td>...</td>\n",
       "      <td>...</td>\n",
       "      <td>...</td>\n",
       "      <td>...</td>\n",
       "      <td>...</td>\n",
       "    </tr>\n",
       "    <tr>\n",
       "      <th>1880</th>\n",
       "      <td>2023-03-27</td>\n",
       "      <td>64.0</td>\n",
       "      <td>Greed</td>\n",
       "      <td>27139.888672</td>\n",
       "      <td>18188895178</td>\n",
       "    </tr>\n",
       "    <tr>\n",
       "      <th>1881</th>\n",
       "      <td>2023-03-28</td>\n",
       "      <td>59.0</td>\n",
       "      <td>Greed</td>\n",
       "      <td>27268.130859</td>\n",
       "      <td>17783600385</td>\n",
       "    </tr>\n",
       "    <tr>\n",
       "      <th>1882</th>\n",
       "      <td>2023-03-29</td>\n",
       "      <td>57.0</td>\n",
       "      <td>Greed</td>\n",
       "      <td>28348.441406</td>\n",
       "      <td>20684945906</td>\n",
       "    </tr>\n",
       "    <tr>\n",
       "      <th>1883</th>\n",
       "      <td>2023-03-30</td>\n",
       "      <td>60.0</td>\n",
       "      <td>Greed</td>\n",
       "      <td>28033.562500</td>\n",
       "      <td>22435349951</td>\n",
       "    </tr>\n",
       "    <tr>\n",
       "      <th>1884</th>\n",
       "      <td>2023-03-31</td>\n",
       "      <td>63.0</td>\n",
       "      <td>Greed</td>\n",
       "      <td>28478.484375</td>\n",
       "      <td>19001327598</td>\n",
       "    </tr>\n",
       "  </tbody>\n",
       "</table>\n",
       "<p>1885 rows × 5 columns</p>\n",
       "</div>"
      ],
      "text/plain": [
       "            Date  Value Value_Classification   BTC_Closing   BTC_Volume\n",
       "0     2018-02-01   30.0                 Fear   9170.540039   9959400448\n",
       "1     2018-02-02   15.0         Extreme Fear   8830.750000  12726899712\n",
       "2     2018-02-03   40.0                 Fear   9174.910156   7263790080\n",
       "3     2018-02-04   24.0         Extreme Fear   8277.009766   7073549824\n",
       "4     2018-02-05   11.0         Extreme Fear   6955.270020   9285289984\n",
       "...          ...    ...                  ...           ...          ...\n",
       "1880  2023-03-27   64.0                Greed  27139.888672  18188895178\n",
       "1881  2023-03-28   59.0                Greed  27268.130859  17783600385\n",
       "1882  2023-03-29   57.0                Greed  28348.441406  20684945906\n",
       "1883  2023-03-30   60.0                Greed  28033.562500  22435349951\n",
       "1884  2023-03-31   63.0                Greed  28478.484375  19001327598\n",
       "\n",
       "[1885 rows x 5 columns]"
      ]
     },
     "execution_count": 4,
     "metadata": {},
     "output_type": "execute_result"
    }
   ],
   "source": [
    "df"
   ]
  },
  {
   "cell_type": "code",
   "execution_count": 5,
   "id": "ea581cee",
   "metadata": {},
   "outputs": [
    {
     "name": "stdout",
     "output_type": "stream",
     "text": [
      "<class 'pandas.core.frame.DataFrame'>\n",
      "RangeIndex: 1885 entries, 0 to 1884\n",
      "Data columns (total 5 columns):\n",
      " #   Column                Non-Null Count  Dtype  \n",
      "---  ------                --------------  -----  \n",
      " 0   Date                  1885 non-null   object \n",
      " 1   Value                 1882 non-null   float64\n",
      " 2   Value_Classification  1882 non-null   object \n",
      " 3   BTC_Closing           1885 non-null   float64\n",
      " 4   BTC_Volume            1885 non-null   int64  \n",
      "dtypes: float64(2), int64(1), object(2)\n",
      "memory usage: 73.8+ KB\n"
     ]
    }
   ],
   "source": [
    "df.info()"
   ]
  },
  {
   "cell_type": "code",
   "execution_count": 6,
   "id": "168fbc04",
   "metadata": {},
   "outputs": [
    {
     "data": {
      "text/plain": [
       "(1885, 5)"
      ]
     },
     "execution_count": 6,
     "metadata": {},
     "output_type": "execute_result"
    }
   ],
   "source": [
    "df.shape"
   ]
  },
  {
   "cell_type": "code",
   "execution_count": 7,
   "id": "f8c8a178",
   "metadata": {},
   "outputs": [
    {
     "data": {
      "text/html": [
       "<div>\n",
       "<style scoped>\n",
       "    .dataframe tbody tr th:only-of-type {\n",
       "        vertical-align: middle;\n",
       "    }\n",
       "\n",
       "    .dataframe tbody tr th {\n",
       "        vertical-align: top;\n",
       "    }\n",
       "\n",
       "    .dataframe thead th {\n",
       "        text-align: right;\n",
       "    }\n",
       "</style>\n",
       "<table border=\"1\" class=\"dataframe\">\n",
       "  <thead>\n",
       "    <tr style=\"text-align: right;\">\n",
       "      <th></th>\n",
       "      <th>Value</th>\n",
       "      <th>BTC_Closing</th>\n",
       "      <th>BTC_Volume</th>\n",
       "    </tr>\n",
       "  </thead>\n",
       "  <tbody>\n",
       "    <tr>\n",
       "      <th>count</th>\n",
       "      <td>1882.000000</td>\n",
       "      <td>1885.000000</td>\n",
       "      <td>1.885000e+03</td>\n",
       "    </tr>\n",
       "    <tr>\n",
       "      <th>mean</th>\n",
       "      <td>42.394261</td>\n",
       "      <td>20579.140472</td>\n",
       "      <td>2.676660e+10</td>\n",
       "    </tr>\n",
       "    <tr>\n",
       "      <th>std</th>\n",
       "      <td>22.087394</td>\n",
       "      <td>16710.842873</td>\n",
       "      <td>1.953785e+10</td>\n",
       "    </tr>\n",
       "    <tr>\n",
       "      <th>min</th>\n",
       "      <td>5.000000</td>\n",
       "      <td>3236.761719</td>\n",
       "      <td>2.923670e+09</td>\n",
       "    </tr>\n",
       "    <tr>\n",
       "      <th>25%</th>\n",
       "      <td>24.000000</td>\n",
       "      <td>7879.071289</td>\n",
       "      <td>1.373184e+10</td>\n",
       "    </tr>\n",
       "    <tr>\n",
       "      <th>50%</th>\n",
       "      <td>39.000000</td>\n",
       "      <td>11429.506836</td>\n",
       "      <td>2.459894e+10</td>\n",
       "    </tr>\n",
       "    <tr>\n",
       "      <th>75%</th>\n",
       "      <td>56.000000</td>\n",
       "      <td>32702.025391</td>\n",
       "      <td>3.569001e+10</td>\n",
       "    </tr>\n",
       "    <tr>\n",
       "      <th>max</th>\n",
       "      <td>95.000000</td>\n",
       "      <td>67566.828125</td>\n",
       "      <td>3.509679e+11</td>\n",
       "    </tr>\n",
       "  </tbody>\n",
       "</table>\n",
       "</div>"
      ],
      "text/plain": [
       "             Value   BTC_Closing    BTC_Volume\n",
       "count  1882.000000   1885.000000  1.885000e+03\n",
       "mean     42.394261  20579.140472  2.676660e+10\n",
       "std      22.087394  16710.842873  1.953785e+10\n",
       "min       5.000000   3236.761719  2.923670e+09\n",
       "25%      24.000000   7879.071289  1.373184e+10\n",
       "50%      39.000000  11429.506836  2.459894e+10\n",
       "75%      56.000000  32702.025391  3.569001e+10\n",
       "max      95.000000  67566.828125  3.509679e+11"
      ]
     },
     "execution_count": 7,
     "metadata": {},
     "output_type": "execute_result"
    }
   ],
   "source": [
    "df.describe()"
   ]
  },
  {
   "cell_type": "code",
   "execution_count": 8,
   "id": "411bdcc6",
   "metadata": {},
   "outputs": [
    {
     "data": {
      "text/plain": [
       "Date                    0\n",
       "Value                   3\n",
       "Value_Classification    3\n",
       "BTC_Closing             0\n",
       "BTC_Volume              0\n",
       "dtype: int64"
      ]
     },
     "execution_count": 8,
     "metadata": {},
     "output_type": "execute_result"
    }
   ],
   "source": [
    "df.isnull().sum()"
   ]
  },
  {
   "cell_type": "code",
   "execution_count": 9,
   "id": "11b31940",
   "metadata": {},
   "outputs": [
    {
     "data": {
      "text/html": [
       "<div>\n",
       "<style scoped>\n",
       "    .dataframe tbody tr th:only-of-type {\n",
       "        vertical-align: middle;\n",
       "    }\n",
       "\n",
       "    .dataframe tbody tr th {\n",
       "        vertical-align: top;\n",
       "    }\n",
       "\n",
       "    .dataframe thead th {\n",
       "        text-align: right;\n",
       "    }\n",
       "</style>\n",
       "<table border=\"1\" class=\"dataframe\">\n",
       "  <thead>\n",
       "    <tr style=\"text-align: right;\">\n",
       "      <th></th>\n",
       "      <th>Date</th>\n",
       "      <th>Value</th>\n",
       "      <th>Value_Classification</th>\n",
       "      <th>BTC_Closing</th>\n",
       "      <th>BTC_Volume</th>\n",
       "    </tr>\n",
       "  </thead>\n",
       "  <tbody>\n",
       "    <tr>\n",
       "      <th>0</th>\n",
       "      <td>2018-02-01</td>\n",
       "      <td>30.0</td>\n",
       "      <td>Fear</td>\n",
       "      <td>9170.540039</td>\n",
       "      <td>9959400448</td>\n",
       "    </tr>\n",
       "    <tr>\n",
       "      <th>1</th>\n",
       "      <td>2018-02-02</td>\n",
       "      <td>15.0</td>\n",
       "      <td>Extreme Fear</td>\n",
       "      <td>8830.750000</td>\n",
       "      <td>12726899712</td>\n",
       "    </tr>\n",
       "    <tr>\n",
       "      <th>2</th>\n",
       "      <td>2018-02-03</td>\n",
       "      <td>40.0</td>\n",
       "      <td>Fear</td>\n",
       "      <td>9174.910156</td>\n",
       "      <td>7263790080</td>\n",
       "    </tr>\n",
       "    <tr>\n",
       "      <th>3</th>\n",
       "      <td>2018-02-04</td>\n",
       "      <td>24.0</td>\n",
       "      <td>Extreme Fear</td>\n",
       "      <td>8277.009766</td>\n",
       "      <td>7073549824</td>\n",
       "    </tr>\n",
       "    <tr>\n",
       "      <th>4</th>\n",
       "      <td>2018-02-05</td>\n",
       "      <td>11.0</td>\n",
       "      <td>Extreme Fear</td>\n",
       "      <td>6955.270020</td>\n",
       "      <td>9285289984</td>\n",
       "    </tr>\n",
       "    <tr>\n",
       "      <th>...</th>\n",
       "      <td>...</td>\n",
       "      <td>...</td>\n",
       "      <td>...</td>\n",
       "      <td>...</td>\n",
       "      <td>...</td>\n",
       "    </tr>\n",
       "    <tr>\n",
       "      <th>1880</th>\n",
       "      <td>2023-03-27</td>\n",
       "      <td>64.0</td>\n",
       "      <td>Greed</td>\n",
       "      <td>27139.888672</td>\n",
       "      <td>18188895178</td>\n",
       "    </tr>\n",
       "    <tr>\n",
       "      <th>1881</th>\n",
       "      <td>2023-03-28</td>\n",
       "      <td>59.0</td>\n",
       "      <td>Greed</td>\n",
       "      <td>27268.130859</td>\n",
       "      <td>17783600385</td>\n",
       "    </tr>\n",
       "    <tr>\n",
       "      <th>1882</th>\n",
       "      <td>2023-03-29</td>\n",
       "      <td>57.0</td>\n",
       "      <td>Greed</td>\n",
       "      <td>28348.441406</td>\n",
       "      <td>20684945906</td>\n",
       "    </tr>\n",
       "    <tr>\n",
       "      <th>1883</th>\n",
       "      <td>2023-03-30</td>\n",
       "      <td>60.0</td>\n",
       "      <td>Greed</td>\n",
       "      <td>28033.562500</td>\n",
       "      <td>22435349951</td>\n",
       "    </tr>\n",
       "    <tr>\n",
       "      <th>1884</th>\n",
       "      <td>2023-03-31</td>\n",
       "      <td>63.0</td>\n",
       "      <td>Greed</td>\n",
       "      <td>28478.484375</td>\n",
       "      <td>19001327598</td>\n",
       "    </tr>\n",
       "  </tbody>\n",
       "</table>\n",
       "<p>1882 rows × 5 columns</p>\n",
       "</div>"
      ],
      "text/plain": [
       "            Date  Value Value_Classification   BTC_Closing   BTC_Volume\n",
       "0     2018-02-01   30.0                 Fear   9170.540039   9959400448\n",
       "1     2018-02-02   15.0         Extreme Fear   8830.750000  12726899712\n",
       "2     2018-02-03   40.0                 Fear   9174.910156   7263790080\n",
       "3     2018-02-04   24.0         Extreme Fear   8277.009766   7073549824\n",
       "4     2018-02-05   11.0         Extreme Fear   6955.270020   9285289984\n",
       "...          ...    ...                  ...           ...          ...\n",
       "1880  2023-03-27   64.0                Greed  27139.888672  18188895178\n",
       "1881  2023-03-28   59.0                Greed  27268.130859  17783600385\n",
       "1882  2023-03-29   57.0                Greed  28348.441406  20684945906\n",
       "1883  2023-03-30   60.0                Greed  28033.562500  22435349951\n",
       "1884  2023-03-31   63.0                Greed  28478.484375  19001327598\n",
       "\n",
       "[1882 rows x 5 columns]"
      ]
     },
     "execution_count": 9,
     "metadata": {},
     "output_type": "execute_result"
    }
   ],
   "source": [
    "#Removing rows that containing null values\n",
    "df=df.dropna()\n",
    "df"
   ]
  },
  {
   "cell_type": "code",
   "execution_count": 10,
   "id": "8f6eb86f",
   "metadata": {},
   "outputs": [
    {
     "data": {
      "text/plain": [
       "<Axes: xlabel='Value_Classification', ylabel='count'>"
      ]
     },
     "execution_count": 10,
     "metadata": {},
     "output_type": "execute_result"
    },
    {
     "data": {
      "image/png": "[encoded data removed]",
      "text/plain": [
       "<Figure size 640x480 with 1 Axes>"
      ]
     },
     "metadata": {},
     "output_type": "display_data"
    }
   ],
   "source": [
    "sns.countplot(data=df,x='Value_Classification')"
   ]
  },
  {
   "cell_type": "code",
   "execution_count": 11,
   "id": "2cc5ff4d",
   "metadata": {},
   "outputs": [
    {
     "data": {
      "text/plain": [
       "<Axes: xlabel='Value_Classification', ylabel='BTC_Closing'>"
      ]
     },
     "execution_count": 11,
     "metadata": {},
     "output_type": "execute_result"
    },
    {
     "data": {
      "image/png": "[encoded data removed]",
      "text/plain": [
       "<Figure size 640x480 with 1 Axes>"
      ]
     },
     "metadata": {},
     "output_type": "display_data"
    }
   ],
   "source": [
    "sns.barplot(data=df,x='Value_Classification',y='BTC_Closing',color='brown')"
   ]
  },
  {
   "cell_type": "markdown",
   "id": "7ffb5d4e",
   "metadata": {},
   "source": [
    "# Training and Testing Data"
   ]
  },
  {
   "cell_type": "code",
   "execution_count": 12,
   "id": "eea7ce10",
   "metadata": {},
   "outputs": [],
   "source": [
    "X=df[['Value','BTC_Volume']]\n",
    "y=df['BTC_Closing']"
   ]
  },
  {
   "cell_type": "code",
   "execution_count": 13,
   "id": "613b923c",
   "metadata": {},
   "outputs": [],
   "source": [
    "#split the data into training and testing sets\n",
    "from sklearn.model_selection import train_test_split"
   ]
  },
  {
   "cell_type": "code",
   "execution_count": 14,
   "id": "46d2fb39",
   "metadata": {},
   "outputs": [],
   "source": [
    "X_train,X_test,y_train,y_test=train_test_split(X,y,test_size=0.3,random_state=42)"
   ]
  },
  {
   "cell_type": "markdown",
   "id": "611176c9",
   "metadata": {},
   "source": [
    "# Train the model"
   ]
  },
  {
   "cell_type": "code",
   "execution_count": 15,
   "id": "aabb92aa",
   "metadata": {},
   "outputs": [],
   "source": [
    "from sklearn.linear_model import LinearRegression"
   ]
  },
  {
   "cell_type": "code",
   "execution_count": 16,
   "id": "95ee1c32",
   "metadata": {},
   "outputs": [],
   "source": [
    "lm=LinearRegression()"
   ]
  },
  {
   "cell_type": "code",
   "execution_count": 17,
   "id": "5d14cac9",
   "metadata": {},
   "outputs": [
    {
     "data": {
      "text/html": [
       "<style>#sk-container-id-1 {color: black;}#sk-container-id-1 pre{padding: 0;}#sk-container-id-1 div.sk-toggleable {background-color: white;}#sk-container-id-1 label.sk-toggleable__label {cursor: pointer;display: block;width: 100%;margin-bottom: 0;padding: 0.3em;box-sizing: border-box;text-align: center;}#sk-container-id-1 label.sk-toggleable__label-arrow:before {content: \"▸\";float: left;margin-right: 0.25em;color: #696969;}#sk-container-id-1 label.sk-toggleable__label-arrow:hover:before {color: black;}#sk-container-id-1 div.sk-estimator:hover label.sk-toggleable__label-arrow:before {color: black;}#sk-container-id-1 div.sk-toggleable__content {max-height: 0;max-width: 0;overflow: hidden;text-align: left;background-color: #f0f8ff;}#sk-container-id-1 div.sk-toggleable__content pre {margin: 0.2em;color: black;border-radius: 0.25em;background-color: #f0f8ff;}#sk-container-id-1 input.sk-toggleable__control:checked~div.sk-toggleable__content {max-height: 200px;max-width: 100%;overflow: auto;}#sk-container-id-1 input.sk-toggleable__control:checked~label.sk-toggleable__label-arrow:before {content: \"▾\";}#sk-container-id-1 div.sk-estimator input.sk-toggleable__control:checked~label.sk-toggleable__label {background-color: #d4ebff;}#sk-container-id-1 div.sk-label input.sk-toggleable__control:checked~label.sk-toggleable__label {background-color: #d4ebff;}#sk-container-id-1 input.sk-hidden--visually {border: 0;clip: rect(1px 1px 1px 1px);clip: rect(1px, 1px, 1px, 1px);height: 1px;margin: -1px;overflow: hidden;padding: 0;position: absolute;width: 1px;}#sk-container-id-1 div.sk-estimator {font-family: monospace;background-color: #f0f8ff;border: 1px dotted black;border-radius: 0.25em;box-sizing: border-box;margin-bottom: 0.5em;}#sk-container-id-1 div.sk-estimator:hover {background-color: #d4ebff;}#sk-container-id-1 div.sk-parallel-item::after {content: \"\";width: 100%;border-bottom: 1px solid gray;flex-grow: 1;}#sk-container-id-1 div.sk-label:hover label.sk-toggleable__label {background-color: #d4ebff;}#sk-container-id-1 div.sk-serial::before {content: \"\";position: absolute;border-left: 1px solid gray;box-sizing: border-box;top: 0;bottom: 0;left: 50%;z-index: 0;}#sk-container-id-1 div.sk-serial {display: flex;flex-direction: column;align-items: center;background-color: white;padding-right: 0.2em;padding-left: 0.2em;position: relative;}#sk-container-id-1 div.sk-item {position: relative;z-index: 1;}#sk-container-id-1 div.sk-parallel {display: flex;align-items: stretch;justify-content: center;background-color: white;position: relative;}#sk-container-id-1 div.sk-item::before, #sk-container-id-1 div.sk-parallel-item::before {content: \"\";position: absolute;border-left: 1px solid gray;box-sizing: border-box;top: 0;bottom: 0;left: 50%;z-index: -1;}#sk-container-id-1 div.sk-parallel-item {display: flex;flex-direction: column;z-index: 1;position: relative;background-color: white;}#sk-container-id-1 div.sk-parallel-item:first-child::after {align-self: flex-end;width: 50%;}#sk-container-id-1 div.sk-parallel-item:last-child::after {align-self: flex-start;width: 50%;}#sk-container-id-1 div.sk-parallel-item:only-child::after {width: 0;}#sk-container-id-1 div.sk-dashed-wrapped {border: 1px dashed gray;margin: 0 0.4em 0.5em 0.4em;box-sizing: border-box;padding-bottom: 0.4em;background-color: white;}#sk-container-id-1 div.sk-label label {font-family: monospace;font-weight: bold;display: inline-block;line-height: 1.2em;}#sk-container-id-1 div.sk-label-container {text-align: center;}#sk-container-id-1 div.sk-container {/* jupyter's `normalize.less` sets `[hidden] { display: none; }` but bootstrap.min.css set `[hidden] { display: none !important; }` so we also need the `!important` here to be able to override the default hidden behavior on the sphinx rendered scikit-learn.org. See: https://github.com/scikit-learn/scikit-learn/issues/21755 */display: inline-block !important;position: relative;}#sk-container-id-1 div.sk-text-repr-fallback {display: none;}</style><div id=\"sk-container-id-1\" class=\"sk-top-container\"><div class=\"sk-text-repr-fallback\"><pre>LinearRegression()</pre><b>In a Jupyter environment, please rerun this cell to show the HTML representation or trust the notebook. <br />On GitHub, the HTML representation is unable to render, please try loading this page with nbviewer.org.</b></div><div class=\"sk-container\" hidden><div class=\"sk-item\"><div class=\"sk-estimator sk-toggleable\"><input class=\"sk-toggleable__control sk-hidden--visually\" id=\"sk-estimator-id-1\" type=\"checkbox\" checked><label for=\"sk-estimator-id-1\" class=\"sk-toggleable__label sk-toggleable__label-arrow\">LinearRegression</label><div class=\"sk-toggleable__content\"><pre>LinearRegression()</pre></div></div></div></div></div>"
      ],
      "text/plain": [
       "LinearRegression()"
      ]
     },
     "execution_count": 17,
     "metadata": {},
     "output_type": "execute_result"
    }
   ],
   "source": [
    "lm.fit(X_train,y_train)"
   ]
  },
  {
   "cell_type": "markdown",
   "id": "bf2a1cbc",
   "metadata": {},
   "source": [
    "# Predicting test data"
   ]
  },
  {
   "cell_type": "code",
   "execution_count": 18,
   "id": "1b4283fa",
   "metadata": {},
   "outputs": [],
   "source": [
    "prediction = lm.predict(X_test)"
   ]
  },
  {
   "cell_type": "code",
   "execution_count": 19,
   "id": "e1cdbd1f",
   "metadata": {},
   "outputs": [
    {
     "data": {
      "text/plain": [
       "array([20322.37012051, 19932.75126188, 22942.87963269, 24234.46741644,\n",
       "       27086.37183373, 13600.39660023, 10986.53636617, 28593.99704132,\n",
       "       18140.1771373 , 20909.52397442, 29140.77843582, 26517.08306831,\n",
       "       20798.82928481, 14203.16475116, 30601.55294515, 21259.27035014,\n",
       "       16891.05787645, 53435.50324911, 19619.78913358, 19663.94168154,\n",
       "       30993.08689273, 24807.08672654, 26348.59536379, 27819.44365816,\n",
       "        9719.73447509, 22393.31674334,  9536.20091671, 22985.27178402,\n",
       "       10666.08011327,  9658.74459654, 32564.39876561, 15802.67189423,\n",
       "       20792.60024391, 17826.93043746, 30187.91761853, 16026.74069425,\n",
       "       18578.58240294, 11977.64389976,  9848.03087023, 21600.84297289,\n",
       "       15715.9135571 , 40175.4026212 , 19206.37587636, 12964.57637501,\n",
       "        9123.22206897, 15270.27957615, 51962.33309171, 16932.9317197 ,\n",
       "       17033.47217497, 22655.0906038 , 28999.15922392, 15048.538202  ,\n",
       "       20470.84447932, 15425.816459  , 27942.19390305, 41296.64585409,\n",
       "       17957.03466696, 23276.62499975, 32493.07104146, 18831.52669046,\n",
       "       25480.44818604, 20029.5019779 , 17649.72582507, 24760.07887348,\n",
       "       17091.82991505, 19026.76953398,  9473.51025719, 20554.06603007,\n",
       "       17502.50915623, 17108.85899537, 12446.54520641, 10273.94724897,\n",
       "       10740.29492799, 29746.90658539, 26693.8394609 ,  9104.26311813,\n",
       "       29600.93628995, 24292.96627317, 23612.78680317, 10118.00758803,\n",
       "       22296.27191943, 19065.85943507, 30466.96863825, 20617.39054244,\n",
       "       15212.05318137, 33004.03852762, 13123.63699532, 15787.94373491,\n",
       "        9529.81568953, 20453.60110992, 25093.20307142, 12921.12984637,\n",
       "       10941.13171256,  8818.38617415, 25355.34082027, 20730.12727833,\n",
       "       29912.93887657, 16528.77390825, 17794.58870777,  9954.49152476,\n",
       "       16368.87748181,  9857.82257761, 29505.53445083, 20551.22189507,\n",
       "       16491.14500518, 22280.71807767, 10416.80654849, 11371.21950803,\n",
       "       25840.46273719, 32002.01838352, 20847.22302899, 15865.98631172,\n",
       "       25905.84714114, 48604.05272534, 29668.86008195, 14144.88606817,\n",
       "       14621.28726826, 17315.49933398, 18801.63527663, 24837.72308953,\n",
       "       11539.86327463, 21769.96589257, 22427.73021181, 32952.88912791,\n",
       "       39353.28456074, 15749.09188458, 10988.2190255 , 22792.63192043,\n",
       "       24536.89263142, 10136.80722996, 28543.38141705, 22824.3434985 ,\n",
       "       25776.43953037, 20778.41918688, 21286.45504202, 15291.65082804,\n",
       "       15034.31782594, 42692.88918578, 21102.32682144, 10908.38954777,\n",
       "       29746.76765107, 10506.67030598, 23082.81958054, 16807.24237621,\n",
       "       24262.8089042 , 11325.36555408, 10621.77731906, 10052.42623186,\n",
       "       19172.26589606, 29063.88716249, 24883.05598127, 15135.89238955,\n",
       "       13735.1652344 , 19746.23484176, 26589.07861888, 15787.70761868,\n",
       "       20097.45718496, 14616.38953532, 19341.57250563, 22527.21668923,\n",
       "       29597.78958824, 44641.34739   , 20619.13661234, 21762.57306362,\n",
       "       38578.31150405, 15376.06824196, 19207.26578537, 10803.19302318,\n",
       "       22528.13294566, 15742.00862828, 35381.46891705, 15346.19152112,\n",
       "       28699.48804364, 10245.63741401, 22287.79315995, 19914.08703227,\n",
       "       13661.69097022,  9403.31703616, 11380.24661394, 31162.15310474,\n",
       "       39398.41960653, 15616.3069476 , 22524.93068035, 17465.25241825,\n",
       "       28668.51892186, 26923.6581773 , 12346.00354815, 20329.23040344,\n",
       "       38273.0924494 , 23336.18556019, 10599.09698642, 16054.56343849,\n",
       "       11311.04846665, 24771.74175055, 18845.31359007, 19913.37207614,\n",
       "       17608.45806428, 10968.98121347, 18628.30386613,  9908.69895353,\n",
       "       10425.20397428, 28022.03649467, 19460.75090834, 15427.94283208,\n",
       "       18586.05932656, 16679.1554186 , 10484.34700874, 23225.08229192,\n",
       "       15347.8656058 , 21062.40193338,  9927.52925343, 26085.84213352,\n",
       "       16429.6008633 , 11481.95679946, 11176.2753975 ,  9514.75052887,\n",
       "       22520.95452622, 17151.58491079, 10799.40170373, 41019.94280978,\n",
       "       20636.32802576,  9527.19396687,  9766.07588874, 10615.1520055 ,\n",
       "       15147.58740752, 21010.42756251, 25515.06078849, 14715.13433808,\n",
       "       33258.19169809, 16432.46721395, 22029.4262642 , 25349.85363076,\n",
       "       19664.63590496, 18684.67210056, 21135.20986952, 11101.26400013,\n",
       "       31730.47565973, 14944.94392842, 26754.10434131, 21563.75072742,\n",
       "       21211.31035004,  9207.47648118, 11653.45014133, 16169.02404363,\n",
       "       15377.20481702, 11978.44537199, 21207.88570505, 17536.47167584,\n",
       "       39214.34445808, 18799.16657152,  9600.8494848 , 21399.81818978,\n",
       "       14855.33851785, 32092.9344726 , 17497.00490223, 27993.87275241,\n",
       "       12494.40531628, 28175.82113596, 25667.90707617, 21513.61012635,\n",
       "       16707.16256921, 27788.74296234, 19517.55096816, 21325.69360266,\n",
       "       22149.72942441, 22550.10740295, 21108.10055103, 10229.57205659,\n",
       "       21653.18937596, 10669.65602827, 21038.23727144, 10006.97075438,\n",
       "       20292.40884201, 27190.52627074, 12833.43935555,  9951.2489402 ,\n",
       "        9829.41188344, 21963.14489019, 22318.54503555, 15199.20572821,\n",
       "       28331.42514062, 10104.17648378, 19562.00493745, 23938.74306126,\n",
       "       10483.15489605, 21385.58239434, 24755.13714016, 22540.79468528,\n",
       "       30142.45663208, 25065.861499  , 16171.82435221, 20254.15730399,\n",
       "       18410.92872288, 22723.81179268, 10611.13074688, 10902.09627205,\n",
       "       17481.49768133, 21845.62084439, 21139.31601238, 11092.78931735,\n",
       "       14249.10730751, 20844.25824981,  9869.71591369, 14019.38219737,\n",
       "       15489.1579839 , 18446.65872835, 32192.52863982, 10001.22575385,\n",
       "       15546.10728427,  9927.73208124, 24694.66124956, 16000.09406322,\n",
       "       12960.36519814, 30950.30319953, 23406.07969142, 39652.7578845 ,\n",
       "       28213.62938713, 27171.00682783, 10433.08099683, 22619.85026255,\n",
       "       18847.01991874, 27641.61416193, 17786.05332541, 16509.4928769 ,\n",
       "       14966.25747058, 22730.28986562, 25731.19711915, 25488.29897625,\n",
       "       21749.63206616, 26275.36677412, 21951.16926526,  9562.01335896,\n",
       "       18581.73746337, 10134.56821314, 25304.05124958, 15807.6832995 ,\n",
       "       20790.86106564, 27525.62470735, 19111.10000277, 24655.17346377,\n",
       "       16567.82467207, 23442.98218099, 43150.81654861, 11291.55066533,\n",
       "       31724.94546942,  9206.32232244, 10824.95799206, 22952.52879836,\n",
       "       10074.38853797, 16538.76414492, 10538.8483758 , 24720.65828347,\n",
       "       16816.83990419, 16590.58075173, 20664.03699268, 28355.70519572,\n",
       "       31213.13712823, 25445.74885488, 26263.31454265,  9831.04593925,\n",
       "       14608.98263787, 19806.16422747, 19158.33152381, 20967.66299714,\n",
       "       34096.92867509,  9776.06042951, 24918.82263066, 13601.08973151,\n",
       "       17675.28737587, 17430.89919337, 32905.67150077,  9940.75372171,\n",
       "       62463.82734866, 23505.28402619, 18399.66920689, 11091.27182142,\n",
       "       26030.10339243, 43757.27379863, 24168.04417373, 26389.59456636,\n",
       "       13247.76151684, 10399.25902504, 10037.87154558, 18695.09060712,\n",
       "        9868.91067587, 15423.13691042, 20990.27939245, 22151.43023719,\n",
       "       13621.23978635, 22103.78113161, 15956.07110561, 14010.60364587,\n",
       "       23742.74605213, 27418.49632309, 34973.71741706, 27482.12279577,\n",
       "        9033.26075369, 15521.12661142, 24343.06374806, 15686.38186564,\n",
       "       32730.79683626, 13527.44784073, 13529.85101941, 42864.36996439,\n",
       "       41172.76139511, 26804.03065931, 14491.38358014, 21418.34420142,\n",
       "       17439.60718089, 22107.35648123, 24378.62197272, 17919.20982846,\n",
       "       20347.83448633,  9494.96355589, 12397.27220324,  9460.95788293,\n",
       "       31100.50425823, 33519.83454613,  9733.28221029, 17796.0506692 ,\n",
       "       20659.15458622, 19734.75036089, 24020.2894833 , 20961.07525655,\n",
       "       19208.22205345, 35944.29885994, 24070.73444957, 19128.75806389,\n",
       "       11502.66857308, 18520.0427449 , 13934.7008334 , 15499.74588133,\n",
       "       19763.84959192, 15250.70417388, 11256.80750291, 16374.88534163,\n",
       "       24556.95636723, 15450.90610317, 17983.51887469, 11278.00756017,\n",
       "       23282.28701809, 25908.72474027, 26453.68930382, 40313.51298258,\n",
       "       19176.28362603, 39381.01362633, 21652.43526505,  9159.14193727,\n",
       "       13319.09203462,  9876.86250769, 29466.32852371, 20320.72491177,\n",
       "       16914.25785666, 19056.20815799, 24033.61572528, 21580.93759036,\n",
       "       24734.95389589, 21338.79729262, 21904.23314838, 18117.58523807,\n",
       "        9828.36754413, 25061.53377104, 34879.37770697, 18872.08727249,\n",
       "       19035.21422426, 17956.64622517, 14121.52511969, 26938.64502514,\n",
       "       27485.67381008, 18483.23916859, 16044.79081655, 18819.8032166 ,\n",
       "       26579.17899629,  9536.4032275 , 10420.65663705, 26763.26598509,\n",
       "       24439.79509213, 26475.8490552 , 32546.20388099, 15382.5806766 ,\n",
       "       10710.71086871, 11688.88774972, 10677.40825951, 20595.34691226,\n",
       "       10774.20205436, 11306.77152722, 23612.10994794, 16848.22315096,\n",
       "       20755.32988141, 10491.42137013, 17310.48922248, 21260.48159063,\n",
       "       29707.40485408, 28379.58134678, 44577.04840874, 26365.07360143,\n",
       "       26913.74298039, 17454.08964241, 22715.74655324, 23232.08334855,\n",
       "        9720.80766865, 18345.66483181, 19816.29207451, 23611.4648531 ,\n",
       "       11064.06269237, 24882.14674917, 30813.31232996, 55544.24720424,\n",
       "       15285.39325182, 20960.62344348, 25805.7446591 , 34689.62882554,\n",
       "       22066.90073317, 14116.78743181, 20755.42158425, 26037.68986296,\n",
       "       24902.25613259, 31158.75851467, 16843.11699438, 29248.46798141,\n",
       "       13784.99671865, 19673.30463598, 19243.4220665 ,  9882.01993739,\n",
       "        9613.75424679, 16538.59928046, 24131.3110918 , 15648.19002753,\n",
       "       15533.43306178, 18826.94703981, 10013.6783644 , 16329.68068687,\n",
       "       28797.23267647, 29425.17572639, 24235.61893805, 21917.52773061,\n",
       "       20684.94527269, 36812.94855455, 25916.26697872, 38311.40333108,\n",
       "       24547.9492854 ,  9820.1544301 , 23359.41296606, 19562.73683117,\n",
       "       20765.64190613, 18233.20150229, 27146.73083408, 19249.17867899,\n",
       "       33746.21429445, 18594.41407893, 22295.74045657, 16075.37598524,\n",
       "       33147.49320243, 21054.14024235, 15290.89376442, 21375.06395285,\n",
       "       16617.98902802, 18296.01410508, 18125.82726038, 22883.23675349,\n",
       "       11349.94330538, 60611.63586621, 11524.45178184, 21231.13066061,\n",
       "       11046.64673917])"
      ]
     },
     "execution_count": 19,
     "metadata": {},
     "output_type": "execute_result"
    }
   ],
   "source": [
    "prediction"
   ]
  },
  {
   "cell_type": "code",
   "execution_count": 20,
   "id": "79afa219",
   "metadata": {},
   "outputs": [
    {
     "data": {
      "text/plain": [
       "1522    46453.566406\n",
       "1250    33746.003906\n",
       "801      6971.091797\n",
       "759      8562.454102\n",
       "713      8807.010742\n",
       "            ...     \n",
       "280      6453.720215\n",
       "1741    18541.271484\n",
       "361      3470.450439\n",
       "1877    27493.285156\n",
       "239      6644.129883\n",
       "Name: BTC_Closing, Length: 565, dtype: float64"
      ]
     },
     "execution_count": 20,
     "metadata": {},
     "output_type": "execute_result"
    }
   ],
   "source": [
    "#orginal values\n",
    "y_test"
   ]
  },
  {
   "cell_type": "markdown",
   "id": "0cd1005a",
   "metadata": {},
   "source": [
    "# Evaluating the Model"
   ]
  },
  {
   "cell_type": "code",
   "execution_count": 21,
   "id": "65db14ee",
   "metadata": {},
   "outputs": [],
   "source": [
    "from sklearn import metrics"
   ]
  },
  {
   "cell_type": "code",
   "execution_count": 22,
   "id": "a2baf321",
   "metadata": {},
   "outputs": [
    {
     "name": "stdout",
     "output_type": "stream",
     "text": [
      "MAE: 10700.220128608074\n"
     ]
    }
   ],
   "source": [
    "print('MAE:',metrics.mean_absolute_error(y_test,prediction))"
   ]
  },
  {
   "cell_type": "code",
   "execution_count": 23,
   "id": "d2e0587e",
   "metadata": {},
   "outputs": [
    {
     "name": "stdout",
     "output_type": "stream",
     "text": [
      "MSE: 186604855.43996057\n"
     ]
    }
   ],
   "source": [
    "print('MSE:',metrics.mean_squared_error(y_test,prediction))"
   ]
  },
  {
   "cell_type": "markdown",
   "id": "966326f5",
   "metadata": {},
   "source": [
    "# Residuals"
   ]
  },
  {
   "cell_type": "code",
   "execution_count": 24,
   "id": "37fdedc2",
   "metadata": {},
   "outputs": [
    {
     "data": {
      "text/plain": [
       "Text(0, 0.5, 'X Test(Predicted Values)')"
      ]
     },
     "execution_count": 24,
     "metadata": {},
     "output_type": "execute_result"
    },
    {
     "data": {
      "image/png": "[encoded data removed]",
      "text/plain": [
       "<Figure size 640x480 with 1 Axes>"
      ]
     },
     "metadata": {},
     "output_type": "display_data"
    }
   ],
   "source": [
    "plt.scatter(y_test,prediction)\n",
    "plt.xlabel('Y Test(True Values)')\n",
    "plt.ylabel('X Test(Predicted Values)')"
   ]
  },
  {
   "cell_type": "code",
   "execution_count": 25,
   "id": "eab8507e",
   "metadata": {},
   "outputs": [
    {
     "name": "stderr",
     "output_type": "stream",
     "text": [
      "C:\\Users\\saipr\\AppData\\Local\\Temp\\ipykernel_6896\\1219987323.py:1: UserWarning: \n",
      "\n",
      "`distplot` is a deprecated function and will be removed in seaborn v0.14.0.\n",
      "\n",
      "Please adapt your code to use either `displot` (a figure-level function with\n",
      "similar flexibility) or `histplot` (an axes-level function for histograms).\n",
      "\n",
      "For a guide to updating your code to use the new functions, please see\n",
      "https://gist.github.com/mwaskom/de44147ed2974457ad6372750bbe5751\n",
      "\n",
      "  sns.distplot((y_test-prediction),bins=50);\n"
     ]
    },
    {
     "data": {
      "image/png": "[encoded data removed]",
      "text/plain": [
       "<Figure size 640x480 with 1 Axes>"
      ]
     },
     "metadata": {},
     "output_type": "display_data"
    }
   ],
   "source": [
    "sns.distplot((y_test-prediction),bins=50);"
   ]
  },
  {
   "cell_type": "code",
   "execution_count": null,
   "id": "283a2506",
   "metadata": {},
   "outputs": [],
   "source": []
  }
 ],
 "metadata": {
  "kernelspec": {
   "display_name": "Python 3 (ipykernel)",
   "language": "python",
   "name": "python3"
  },
  "language_info": {
   "codemirror_mode": {
    "name": "ipython",
    "version": 3
   },
   "file_extension": ".py",
   "mimetype": "text/x-python",
   "name": "python",
   "nbconvert_exporter": "python",
   "pygments_lexer": "ipython3",
   "version": "3.10.9"
  }
 },
 "nbformat": 4,
 "nbformat_minor": 5
}
