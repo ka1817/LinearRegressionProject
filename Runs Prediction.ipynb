{
 "cells": [
  {
   "cell_type": "markdown",
   "id": "80cca581",
   "metadata": {},
   "source": [
    "# Runs Prediction with Linear Regression model"
   ]
  },
  {
   "cell_type": "code",
   "execution_count": null,
   "id": "c899b423",
   "metadata": {},
   "outputs": [],
   "source": [
    "import pandas as pd\n",
    "import numpy as np\n",
    "import seaborn as  sns\n",
    "import matplotlib.pyplot as plt\n",
    "get_ipython().run_line_magic('matplotlib', 'inline')\n"
   ]
  },
  {
   "cell_type": "code",
   "execution_count": 2,
   "id": "b1a56176",
   "metadata": {},
   "outputs": [
    {
     "data": {
      "text/html": [
       "<div>\n",
       "<style scoped>\n",
       "    .dataframe tbody tr th:only-of-type {\n",
       "        vertical-align: middle;\n",
       "    }\n",
       "\n",
       "    .dataframe tbody tr th {\n",
       "        vertical-align: top;\n",
       "    }\n",
       "\n",
       "    .dataframe thead th {\n",
       "        text-align: right;\n",
       "    }\n",
       "</style>\n",
       "<table border=\"1\" class=\"dataframe\">\n",
       "  <thead>\n",
       "    <tr style=\"text-align: right;\">\n",
       "      <th></th>\n",
       "      <th>Rank</th>\n",
       "      <th>Player</th>\n",
       "      <th>Team</th>\n",
       "      <th>Runs</th>\n",
       "      <th>4s</th>\n",
       "      <th>6s</th>\n",
       "      <th>Mat</th>\n",
       "      <th>Innings</th>\n",
       "      <th>Highest</th>\n",
       "      <th>100s</th>\n",
       "      <th>50s</th>\n",
       "      <th>Avg</th>\n",
       "      <th>SR</th>\n",
       "    </tr>\n",
       "  </thead>\n",
       "  <tbody>\n",
       "    <tr>\n",
       "      <th>0</th>\n",
       "      <td>1</td>\n",
       "      <td>Virat Kohli</td>\n",
       "      <td>RCB</td>\n",
       "      <td>6624</td>\n",
       "      <td>578</td>\n",
       "      <td>218</td>\n",
       "      <td>223</td>\n",
       "      <td>215</td>\n",
       "      <td>113</td>\n",
       "      <td>5</td>\n",
       "      <td>44</td>\n",
       "      <td>36.20</td>\n",
       "      <td>129.15</td>\n",
       "    </tr>\n",
       "    <tr>\n",
       "      <th>1</th>\n",
       "      <td>2</td>\n",
       "      <td>Shikhar Dhawan</td>\n",
       "      <td>PBKS</td>\n",
       "      <td>6244</td>\n",
       "      <td>701</td>\n",
       "      <td>136</td>\n",
       "      <td>206</td>\n",
       "      <td>205</td>\n",
       "      <td>106*</td>\n",
       "      <td>2</td>\n",
       "      <td>47</td>\n",
       "      <td>35.08</td>\n",
       "      <td>126.35</td>\n",
       "    </tr>\n",
       "    <tr>\n",
       "      <th>2</th>\n",
       "      <td>3</td>\n",
       "      <td>David Warner</td>\n",
       "      <td>DC</td>\n",
       "      <td>5881</td>\n",
       "      <td>561</td>\n",
       "      <td>211</td>\n",
       "      <td>162</td>\n",
       "      <td>162</td>\n",
       "      <td>126</td>\n",
       "      <td>4</td>\n",
       "      <td>54</td>\n",
       "      <td>42.01</td>\n",
       "      <td>140.69</td>\n",
       "    </tr>\n",
       "    <tr>\n",
       "      <th>3</th>\n",
       "      <td>4</td>\n",
       "      <td>Rohit Sharma</td>\n",
       "      <td>MI</td>\n",
       "      <td>5879</td>\n",
       "      <td>519</td>\n",
       "      <td>240</td>\n",
       "      <td>227</td>\n",
       "      <td>222</td>\n",
       "      <td>109*</td>\n",
       "      <td>1</td>\n",
       "      <td>40</td>\n",
       "      <td>30.30</td>\n",
       "      <td>129.89</td>\n",
       "    </tr>\n",
       "    <tr>\n",
       "      <th>4</th>\n",
       "      <td>5</td>\n",
       "      <td>Suresh Raina</td>\n",
       "      <td>CSK</td>\n",
       "      <td>5528</td>\n",
       "      <td>506</td>\n",
       "      <td>203</td>\n",
       "      <td>205</td>\n",
       "      <td>200</td>\n",
       "      <td>100*</td>\n",
       "      <td>1</td>\n",
       "      <td>39</td>\n",
       "      <td>32.52</td>\n",
       "      <td>136.76</td>\n",
       "    </tr>\n",
       "    <tr>\n",
       "      <th>...</th>\n",
       "      <td>...</td>\n",
       "      <td>...</td>\n",
       "      <td>...</td>\n",
       "      <td>...</td>\n",
       "      <td>...</td>\n",
       "      <td>...</td>\n",
       "      <td>...</td>\n",
       "      <td>...</td>\n",
       "      <td>...</td>\n",
       "      <td>...</td>\n",
       "      <td>...</td>\n",
       "      <td>...</td>\n",
       "      <td>...</td>\n",
       "    </tr>\n",
       "    <tr>\n",
       "      <th>70</th>\n",
       "      <td>71</td>\n",
       "      <td>Deepak Hooda</td>\n",
       "      <td>LSG</td>\n",
       "      <td>1236</td>\n",
       "      <td>77</td>\n",
       "      <td>56</td>\n",
       "      <td>95</td>\n",
       "      <td>75</td>\n",
       "      <td>64</td>\n",
       "      <td>0</td>\n",
       "      <td>7</td>\n",
       "      <td>20.26</td>\n",
       "      <td>132.05</td>\n",
       "    </tr>\n",
       "    <tr>\n",
       "      <th>71</th>\n",
       "      <td>72</td>\n",
       "      <td>Ruturaj Gaikwad</td>\n",
       "      <td>CSK</td>\n",
       "      <td>1207</td>\n",
       "      <td>113</td>\n",
       "      <td>43</td>\n",
       "      <td>36</td>\n",
       "      <td>36</td>\n",
       "      <td>101*</td>\n",
       "      <td>1</td>\n",
       "      <td>10</td>\n",
       "      <td>37.72</td>\n",
       "      <td>130.35</td>\n",
       "    </tr>\n",
       "    <tr>\n",
       "      <th>72</th>\n",
       "      <td>73</td>\n",
       "      <td>Kedar Jadhav</td>\n",
       "      <td>SRH</td>\n",
       "      <td>1196</td>\n",
       "      <td>101</td>\n",
       "      <td>40</td>\n",
       "      <td>93</td>\n",
       "      <td>80</td>\n",
       "      <td>69</td>\n",
       "      <td>0</td>\n",
       "      <td>4</td>\n",
       "      <td>22.15</td>\n",
       "      <td>123.17</td>\n",
       "    </tr>\n",
       "    <tr>\n",
       "      <th>73</th>\n",
       "      <td>74</td>\n",
       "      <td>Irfan Pathan</td>\n",
       "      <td>GL</td>\n",
       "      <td>1139</td>\n",
       "      <td>87</td>\n",
       "      <td>37</td>\n",
       "      <td>103</td>\n",
       "      <td>82</td>\n",
       "      <td>60</td>\n",
       "      <td>0</td>\n",
       "      <td>1</td>\n",
       "      <td>21.49</td>\n",
       "      <td>120.40</td>\n",
       "    </tr>\n",
       "    <tr>\n",
       "      <th>74</th>\n",
       "      <td>75</td>\n",
       "      <td>Axar Patel</td>\n",
       "      <td>DC</td>\n",
       "      <td>1135</td>\n",
       "      <td>67</td>\n",
       "      <td>54</td>\n",
       "      <td>122</td>\n",
       "      <td>88</td>\n",
       "      <td>44</td>\n",
       "      <td>0</td>\n",
       "      <td>0</td>\n",
       "      <td>19.24</td>\n",
       "      <td>128.83</td>\n",
       "    </tr>\n",
       "  </tbody>\n",
       "</table>\n",
       "<p>75 rows × 13 columns</p>\n",
       "</div>"
      ],
      "text/plain": [
       "    Rank           Player  Team  Runs   4s   6s  Mat  Innings Highest  100s  \\\n",
       "0      1      Virat Kohli   RCB  6624  578  218  223      215     113     5   \n",
       "1      2   Shikhar Dhawan  PBKS  6244  701  136  206      205    106*     2   \n",
       "2      3     David Warner    DC  5881  561  211  162      162     126     4   \n",
       "3      4     Rohit Sharma    MI  5879  519  240  227      222    109*     1   \n",
       "4      5     Suresh Raina   CSK  5528  506  203  205      200    100*     1   \n",
       "..   ...              ...   ...   ...  ...  ...  ...      ...     ...   ...   \n",
       "70    71     Deepak Hooda   LSG  1236   77   56   95       75      64     0   \n",
       "71    72  Ruturaj Gaikwad   CSK  1207  113   43   36       36    101*     1   \n",
       "72    73     Kedar Jadhav   SRH  1196  101   40   93       80      69     0   \n",
       "73    74     Irfan Pathan    GL  1139   87   37  103       82      60     0   \n",
       "74    75       Axar Patel    DC  1135   67   54  122       88      44     0   \n",
       "\n",
       "    50s    Avg      SR  \n",
       "0    44  36.20  129.15  \n",
       "1    47  35.08  126.35  \n",
       "2    54  42.01  140.69  \n",
       "3    40  30.30  129.89  \n",
       "4    39  32.52  136.76  \n",
       "..  ...    ...     ...  \n",
       "70    7  20.26  132.05  \n",
       "71   10  37.72  130.35  \n",
       "72    4  22.15  123.17  \n",
       "73    1  21.49  120.40  \n",
       "74    0  19.24  128.83  \n",
       "\n",
       "[75 rows x 13 columns]"
      ]
     },
     "execution_count": 2,
     "metadata": {},
     "output_type": "execute_result"
    }
   ],
   "source": [
    "#GET DATA\n",
    "df = pd.read_csv(\"C:\\\\Users\\\\saipr\\\\Downloads\\\\most_runs_in_ipl.csv\")\n",
    "df\n"
   ]
  },
  {
   "cell_type": "code",
   "execution_count": 3,
   "id": "ee3a9e41",
   "metadata": {},
   "outputs": [
    {
     "data": {
      "text/html": [
       "<div>\n",
       "<style scoped>\n",
       "    .dataframe tbody tr th:only-of-type {\n",
       "        vertical-align: middle;\n",
       "    }\n",
       "\n",
       "    .dataframe tbody tr th {\n",
       "        vertical-align: top;\n",
       "    }\n",
       "\n",
       "    .dataframe thead th {\n",
       "        text-align: right;\n",
       "    }\n",
       "</style>\n",
       "<table border=\"1\" class=\"dataframe\">\n",
       "  <thead>\n",
       "    <tr style=\"text-align: right;\">\n",
       "      <th></th>\n",
       "      <th>Rank</th>\n",
       "      <th>Player</th>\n",
       "      <th>Team</th>\n",
       "      <th>Runs</th>\n",
       "      <th>4s</th>\n",
       "      <th>6s</th>\n",
       "      <th>Mat</th>\n",
       "      <th>Innings</th>\n",
       "      <th>Highest</th>\n",
       "      <th>100s</th>\n",
       "      <th>50s</th>\n",
       "      <th>Avg</th>\n",
       "      <th>SR</th>\n",
       "    </tr>\n",
       "  </thead>\n",
       "  <tbody>\n",
       "    <tr>\n",
       "      <th>0</th>\n",
       "      <td>1</td>\n",
       "      <td>Virat Kohli</td>\n",
       "      <td>RCB</td>\n",
       "      <td>6624</td>\n",
       "      <td>578</td>\n",
       "      <td>218</td>\n",
       "      <td>223</td>\n",
       "      <td>215</td>\n",
       "      <td>113</td>\n",
       "      <td>5</td>\n",
       "      <td>44</td>\n",
       "      <td>36.20</td>\n",
       "      <td>129.15</td>\n",
       "    </tr>\n",
       "    <tr>\n",
       "      <th>1</th>\n",
       "      <td>2</td>\n",
       "      <td>Shikhar Dhawan</td>\n",
       "      <td>PBKS</td>\n",
       "      <td>6244</td>\n",
       "      <td>701</td>\n",
       "      <td>136</td>\n",
       "      <td>206</td>\n",
       "      <td>205</td>\n",
       "      <td>106*</td>\n",
       "      <td>2</td>\n",
       "      <td>47</td>\n",
       "      <td>35.08</td>\n",
       "      <td>126.35</td>\n",
       "    </tr>\n",
       "    <tr>\n",
       "      <th>2</th>\n",
       "      <td>3</td>\n",
       "      <td>David Warner</td>\n",
       "      <td>DC</td>\n",
       "      <td>5881</td>\n",
       "      <td>561</td>\n",
       "      <td>211</td>\n",
       "      <td>162</td>\n",
       "      <td>162</td>\n",
       "      <td>126</td>\n",
       "      <td>4</td>\n",
       "      <td>54</td>\n",
       "      <td>42.01</td>\n",
       "      <td>140.69</td>\n",
       "    </tr>\n",
       "    <tr>\n",
       "      <th>3</th>\n",
       "      <td>4</td>\n",
       "      <td>Rohit Sharma</td>\n",
       "      <td>MI</td>\n",
       "      <td>5879</td>\n",
       "      <td>519</td>\n",
       "      <td>240</td>\n",
       "      <td>227</td>\n",
       "      <td>222</td>\n",
       "      <td>109*</td>\n",
       "      <td>1</td>\n",
       "      <td>40</td>\n",
       "      <td>30.30</td>\n",
       "      <td>129.89</td>\n",
       "    </tr>\n",
       "    <tr>\n",
       "      <th>4</th>\n",
       "      <td>5</td>\n",
       "      <td>Suresh Raina</td>\n",
       "      <td>CSK</td>\n",
       "      <td>5528</td>\n",
       "      <td>506</td>\n",
       "      <td>203</td>\n",
       "      <td>205</td>\n",
       "      <td>200</td>\n",
       "      <td>100*</td>\n",
       "      <td>1</td>\n",
       "      <td>39</td>\n",
       "      <td>32.52</td>\n",
       "      <td>136.76</td>\n",
       "    </tr>\n",
       "  </tbody>\n",
       "</table>\n",
       "</div>"
      ],
      "text/plain": [
       "   Rank          Player  Team  Runs   4s   6s  Mat  Innings Highest  100s  \\\n",
       "0     1     Virat Kohli   RCB  6624  578  218  223      215     113     5   \n",
       "1     2  Shikhar Dhawan  PBKS  6244  701  136  206      205    106*     2   \n",
       "2     3    David Warner    DC  5881  561  211  162      162     126     4   \n",
       "3     4    Rohit Sharma    MI  5879  519  240  227      222    109*     1   \n",
       "4     5    Suresh Raina   CSK  5528  506  203  205      200    100*     1   \n",
       "\n",
       "   50s    Avg      SR  \n",
       "0   44  36.20  129.15  \n",
       "1   47  35.08  126.35  \n",
       "2   54  42.01  140.69  \n",
       "3   40  30.30  129.89  \n",
       "4   39  32.52  136.76  "
      ]
     },
     "execution_count": 3,
     "metadata": {},
     "output_type": "execute_result"
    }
   ],
   "source": [
    "df.head()"
   ]
  },
  {
   "cell_type": "code",
   "execution_count": 4,
   "id": "8cffd7bf",
   "metadata": {},
   "outputs": [
    {
     "name": "stdout",
     "output_type": "stream",
     "text": [
      "<class 'pandas.core.frame.DataFrame'>\n",
      "RangeIndex: 75 entries, 0 to 74\n",
      "Data columns (total 13 columns):\n",
      " #   Column   Non-Null Count  Dtype  \n",
      "---  ------   --------------  -----  \n",
      " 0   Rank     75 non-null     int64  \n",
      " 1   Player   75 non-null     object \n",
      " 2   Team     75 non-null     object \n",
      " 3   Runs     75 non-null     int64  \n",
      " 4   4s       75 non-null     int64  \n",
      " 5   6s       75 non-null     int64  \n",
      " 6   Mat      75 non-null     int64  \n",
      " 7   Innings  75 non-null     int64  \n",
      " 8   Highest  75 non-null     object \n",
      " 9   100s     75 non-null     int64  \n",
      " 10  50s      75 non-null     int64  \n",
      " 11  Avg      75 non-null     float64\n",
      " 12  SR       75 non-null     float64\n",
      "dtypes: float64(2), int64(8), object(3)\n",
      "memory usage: 7.7+ KB\n"
     ]
    }
   ],
   "source": [
    "df.info()"
   ]
  },
  {
   "cell_type": "code",
   "execution_count": 5,
   "id": "9679b9d3",
   "metadata": {},
   "outputs": [
    {
     "data": {
      "text/plain": [
       "(75, 13)"
      ]
     },
     "execution_count": 5,
     "metadata": {},
     "output_type": "execute_result"
    }
   ],
   "source": [
    "df.shape"
   ]
  },
  {
   "cell_type": "code",
   "execution_count": 6,
   "id": "1d58f2e6",
   "metadata": {},
   "outputs": [
    {
     "data": {
      "text/html": [
       "<div>\n",
       "<style scoped>\n",
       "    .dataframe tbody tr th:only-of-type {\n",
       "        vertical-align: middle;\n",
       "    }\n",
       "\n",
       "    .dataframe tbody tr th {\n",
       "        vertical-align: top;\n",
       "    }\n",
       "\n",
       "    .dataframe thead th {\n",
       "        text-align: right;\n",
       "    }\n",
       "</style>\n",
       "<table border=\"1\" class=\"dataframe\">\n",
       "  <thead>\n",
       "    <tr style=\"text-align: right;\">\n",
       "      <th></th>\n",
       "      <th>Rank</th>\n",
       "      <th>Player</th>\n",
       "      <th>Team</th>\n",
       "      <th>Runs</th>\n",
       "      <th>4s</th>\n",
       "      <th>6s</th>\n",
       "      <th>Mat</th>\n",
       "      <th>Innings</th>\n",
       "      <th>Highest</th>\n",
       "      <th>100s</th>\n",
       "      <th>50s</th>\n",
       "      <th>Avg</th>\n",
       "      <th>SR</th>\n",
       "    </tr>\n",
       "  </thead>\n",
       "  <tbody>\n",
       "  </tbody>\n",
       "</table>\n",
       "</div>"
      ],
      "text/plain": [
       "Empty DataFrame\n",
       "Columns: [Rank, Player, Team, Runs, 4s, 6s, Mat, Innings, Highest, 100s, 50s, Avg, SR]\n",
       "Index: []"
      ]
     },
     "execution_count": 6,
     "metadata": {},
     "output_type": "execute_result"
    }
   ],
   "source": [
    "df[df.duplicated()]\n"
   ]
  },
  {
   "cell_type": "code",
   "execution_count": 7,
   "id": "1f01c9e5",
   "metadata": {},
   "outputs": [
    {
     "data": {
      "text/plain": [
       "Rank   Player  Team   Runs   4s     6s     Mat    Innings  Highest  100s   50s    Avg    SR   \n",
       "False  False   False  False  False  False  False  False    False    False  False  False  False    75\n",
       "Name: count, dtype: int64"
      ]
     },
     "execution_count": 7,
     "metadata": {},
     "output_type": "execute_result"
    }
   ],
   "source": [
    "df.isnull().value_counts()\n"
   ]
  },
  {
   "cell_type": "code",
   "execution_count": 8,
   "id": "3d1638b1",
   "metadata": {},
   "outputs": [
    {
     "data": {
      "text/plain": [
       "<bound method NDFrame.describe of     Rank           Player  Team  Runs   4s   6s  Mat  Innings Highest  100s  \\\n",
       "0      1      Virat Kohli   RCB  6624  578  218  223      215     113     5   \n",
       "1      2   Shikhar Dhawan  PBKS  6244  701  136  206      205    106*     2   \n",
       "2      3     David Warner    DC  5881  561  211  162      162     126     4   \n",
       "3      4     Rohit Sharma    MI  5879  519  240  227      222    109*     1   \n",
       "4      5     Suresh Raina   CSK  5528  506  203  205      200    100*     1   \n",
       "..   ...              ...   ...   ...  ...  ...  ...      ...     ...   ...   \n",
       "70    71     Deepak Hooda   LSG  1236   77   56   95       75      64     0   \n",
       "71    72  Ruturaj Gaikwad   CSK  1207  113   43   36       36    101*     1   \n",
       "72    73     Kedar Jadhav   SRH  1196  101   40   93       80      69     0   \n",
       "73    74     Irfan Pathan    GL  1139   87   37  103       82      60     0   \n",
       "74    75       Axar Patel    DC  1135   67   54  122       88      44     0   \n",
       "\n",
       "    50s    Avg      SR  \n",
       "0    44  36.20  129.15  \n",
       "1    47  35.08  126.35  \n",
       "2    54  42.01  140.69  \n",
       "3    40  30.30  129.89  \n",
       "4    39  32.52  136.76  \n",
       "..  ...    ...     ...  \n",
       "70    7  20.26  132.05  \n",
       "71   10  37.72  130.35  \n",
       "72    4  22.15  123.17  \n",
       "73    1  21.49  120.40  \n",
       "74    0  19.24  128.83  \n",
       "\n",
       "[75 rows x 13 columns]>"
      ]
     },
     "execution_count": 8,
     "metadata": {},
     "output_type": "execute_result"
    }
   ],
   "source": [
    "df.describe\n"
   ]
  },
  {
   "cell_type": "code",
   "execution_count": 9,
   "id": "ce43679b",
   "metadata": {},
   "outputs": [
    {
     "name": "stderr",
     "output_type": "stream",
     "text": [
      "C:\\Users\\saipr\\AppData\\Local\\Temp\\ipykernel_18236\\3655930296.py:1: UserWarning: \n",
      "\n",
      "`distplot` is a deprecated function and will be removed in seaborn v0.14.0.\n",
      "\n",
      "Please adapt your code to use either `displot` (a figure-level function with\n",
      "similar flexibility) or `histplot` (an axes-level function for histograms).\n",
      "\n",
      "For a guide to updating your code to use the new functions, please see\n",
      "https://gist.github.com/mwaskom/de44147ed2974457ad6372750bbe5751\n",
      "\n",
      "  sns.distplot(df['Avg'],bins=30)\n"
     ]
    },
    {
     "data": {
      "text/plain": [
       "<Axes: xlabel='Avg', ylabel='Density'>"
      ]
     },
     "execution_count": 9,
     "metadata": {},
     "output_type": "execute_result"
    },
    {
     "data": {
      "image/png": "[encoded data removed]",
      "text/plain": [
       "<Figure size 640x480 with 1 Axes>"
      ]
     },
     "metadata": {},
     "output_type": "display_data"
    }
   ],
   "source": [
    "sns.distplot(df['Avg'],bins=30)\n",
    "\n"
   ]
  },
  {
   "cell_type": "code",
   "execution_count": 10,
   "id": "d31572d3",
   "metadata": {},
   "outputs": [
    {
     "data": {
      "text/plain": [
       "<Axes: xlabel='Team', ylabel='Runs'>"
      ]
     },
     "execution_count": 10,
     "metadata": {},
     "output_type": "execute_result"
    },
    {
     "data": {
      "image/png": "[encoded data removed]",
      "text/plain": [
       "<Figure size 640x480 with 1 Axes>"
      ]
     },
     "metadata": {},
     "output_type": "display_data"
    }
   ],
   "source": [
    "sns.boxplot(x='Team',y='Runs',data=df)\n",
    "\n",
    "\n"
   ]
  },
  {
   "cell_type": "code",
   "execution_count": 11,
   "id": "007a5e5d",
   "metadata": {},
   "outputs": [
    {
     "data": {
      "text/html": [
       "<div>\n",
       "<style scoped>\n",
       "    .dataframe tbody tr th:only-of-type {\n",
       "        vertical-align: middle;\n",
       "    }\n",
       "\n",
       "    .dataframe tbody tr th {\n",
       "        vertical-align: top;\n",
       "    }\n",
       "\n",
       "    .dataframe thead th {\n",
       "        text-align: right;\n",
       "    }\n",
       "</style>\n",
       "<table border=\"1\" class=\"dataframe\">\n",
       "  <thead>\n",
       "    <tr style=\"text-align: right;\">\n",
       "      <th></th>\n",
       "      <th>Rank</th>\n",
       "      <th>Player</th>\n",
       "      <th>Team</th>\n",
       "      <th>Runs</th>\n",
       "      <th>4s</th>\n",
       "      <th>6s</th>\n",
       "      <th>Mat</th>\n",
       "      <th>Innings</th>\n",
       "      <th>Highest</th>\n",
       "      <th>100s</th>\n",
       "      <th>50s</th>\n",
       "      <th>Avg</th>\n",
       "      <th>SR</th>\n",
       "    </tr>\n",
       "  </thead>\n",
       "  <tbody>\n",
       "    <tr>\n",
       "      <th>0</th>\n",
       "      <td>1</td>\n",
       "      <td>Virat Kohli</td>\n",
       "      <td>RCB</td>\n",
       "      <td>6624.0</td>\n",
       "      <td>578.0</td>\n",
       "      <td>218.0</td>\n",
       "      <td>223.0</td>\n",
       "      <td>215.0</td>\n",
       "      <td>113.0</td>\n",
       "      <td>5.0</td>\n",
       "      <td>44.0</td>\n",
       "      <td>36.20</td>\n",
       "      <td>129.15</td>\n",
       "    </tr>\n",
       "    <tr>\n",
       "      <th>1</th>\n",
       "      <td>2</td>\n",
       "      <td>Shikhar Dhawan</td>\n",
       "      <td>PBKS</td>\n",
       "      <td>6244.0</td>\n",
       "      <td>701.0</td>\n",
       "      <td>136.0</td>\n",
       "      <td>206.0</td>\n",
       "      <td>205.0</td>\n",
       "      <td>106.0</td>\n",
       "      <td>2.0</td>\n",
       "      <td>47.0</td>\n",
       "      <td>35.08</td>\n",
       "      <td>126.35</td>\n",
       "    </tr>\n",
       "    <tr>\n",
       "      <th>2</th>\n",
       "      <td>3</td>\n",
       "      <td>David Warner</td>\n",
       "      <td>DC</td>\n",
       "      <td>5881.0</td>\n",
       "      <td>561.0</td>\n",
       "      <td>211.0</td>\n",
       "      <td>162.0</td>\n",
       "      <td>162.0</td>\n",
       "      <td>126.0</td>\n",
       "      <td>4.0</td>\n",
       "      <td>54.0</td>\n",
       "      <td>42.01</td>\n",
       "      <td>140.69</td>\n",
       "    </tr>\n",
       "    <tr>\n",
       "      <th>3</th>\n",
       "      <td>4</td>\n",
       "      <td>Rohit Sharma</td>\n",
       "      <td>MI</td>\n",
       "      <td>5879.0</td>\n",
       "      <td>519.0</td>\n",
       "      <td>240.0</td>\n",
       "      <td>227.0</td>\n",
       "      <td>222.0</td>\n",
       "      <td>109.0</td>\n",
       "      <td>1.0</td>\n",
       "      <td>40.0</td>\n",
       "      <td>30.30</td>\n",
       "      <td>129.89</td>\n",
       "    </tr>\n",
       "    <tr>\n",
       "      <th>4</th>\n",
       "      <td>5</td>\n",
       "      <td>Suresh Raina</td>\n",
       "      <td>CSK</td>\n",
       "      <td>5528.0</td>\n",
       "      <td>506.0</td>\n",
       "      <td>203.0</td>\n",
       "      <td>205.0</td>\n",
       "      <td>200.0</td>\n",
       "      <td>100.0</td>\n",
       "      <td>1.0</td>\n",
       "      <td>39.0</td>\n",
       "      <td>32.52</td>\n",
       "      <td>136.76</td>\n",
       "    </tr>\n",
       "    <tr>\n",
       "      <th>...</th>\n",
       "      <td>...</td>\n",
       "      <td>...</td>\n",
       "      <td>...</td>\n",
       "      <td>...</td>\n",
       "      <td>...</td>\n",
       "      <td>...</td>\n",
       "      <td>...</td>\n",
       "      <td>...</td>\n",
       "      <td>...</td>\n",
       "      <td>...</td>\n",
       "      <td>...</td>\n",
       "      <td>...</td>\n",
       "      <td>...</td>\n",
       "    </tr>\n",
       "    <tr>\n",
       "      <th>70</th>\n",
       "      <td>71</td>\n",
       "      <td>Deepak Hooda</td>\n",
       "      <td>LSG</td>\n",
       "      <td>1236.0</td>\n",
       "      <td>77.0</td>\n",
       "      <td>56.0</td>\n",
       "      <td>95.0</td>\n",
       "      <td>75.0</td>\n",
       "      <td>64.0</td>\n",
       "      <td>0.0</td>\n",
       "      <td>7.0</td>\n",
       "      <td>20.26</td>\n",
       "      <td>132.05</td>\n",
       "    </tr>\n",
       "    <tr>\n",
       "      <th>71</th>\n",
       "      <td>72</td>\n",
       "      <td>Ruturaj Gaikwad</td>\n",
       "      <td>CSK</td>\n",
       "      <td>1207.0</td>\n",
       "      <td>113.0</td>\n",
       "      <td>43.0</td>\n",
       "      <td>36.0</td>\n",
       "      <td>36.0</td>\n",
       "      <td>101.0</td>\n",
       "      <td>1.0</td>\n",
       "      <td>10.0</td>\n",
       "      <td>37.72</td>\n",
       "      <td>130.35</td>\n",
       "    </tr>\n",
       "    <tr>\n",
       "      <th>72</th>\n",
       "      <td>73</td>\n",
       "      <td>Kedar Jadhav</td>\n",
       "      <td>SRH</td>\n",
       "      <td>1196.0</td>\n",
       "      <td>101.0</td>\n",
       "      <td>40.0</td>\n",
       "      <td>93.0</td>\n",
       "      <td>80.0</td>\n",
       "      <td>69.0</td>\n",
       "      <td>0.0</td>\n",
       "      <td>4.0</td>\n",
       "      <td>22.15</td>\n",
       "      <td>123.17</td>\n",
       "    </tr>\n",
       "    <tr>\n",
       "      <th>73</th>\n",
       "      <td>74</td>\n",
       "      <td>Irfan Pathan</td>\n",
       "      <td>GL</td>\n",
       "      <td>1139.0</td>\n",
       "      <td>87.0</td>\n",
       "      <td>37.0</td>\n",
       "      <td>103.0</td>\n",
       "      <td>82.0</td>\n",
       "      <td>60.0</td>\n",
       "      <td>0.0</td>\n",
       "      <td>1.0</td>\n",
       "      <td>21.49</td>\n",
       "      <td>120.40</td>\n",
       "    </tr>\n",
       "    <tr>\n",
       "      <th>74</th>\n",
       "      <td>75</td>\n",
       "      <td>Axar Patel</td>\n",
       "      <td>DC</td>\n",
       "      <td>1135.0</td>\n",
       "      <td>67.0</td>\n",
       "      <td>54.0</td>\n",
       "      <td>122.0</td>\n",
       "      <td>88.0</td>\n",
       "      <td>44.0</td>\n",
       "      <td>0.0</td>\n",
       "      <td>0.0</td>\n",
       "      <td>19.24</td>\n",
       "      <td>128.83</td>\n",
       "    </tr>\n",
       "  </tbody>\n",
       "</table>\n",
       "<p>75 rows × 13 columns</p>\n",
       "</div>"
      ],
      "text/plain": [
       "    Rank           Player  Team    Runs     4s     6s    Mat  Innings  \\\n",
       "0      1      Virat Kohli   RCB  6624.0  578.0  218.0  223.0    215.0   \n",
       "1      2   Shikhar Dhawan  PBKS  6244.0  701.0  136.0  206.0    205.0   \n",
       "2      3     David Warner    DC  5881.0  561.0  211.0  162.0    162.0   \n",
       "3      4     Rohit Sharma    MI  5879.0  519.0  240.0  227.0    222.0   \n",
       "4      5     Suresh Raina   CSK  5528.0  506.0  203.0  205.0    200.0   \n",
       "..   ...              ...   ...     ...    ...    ...    ...      ...   \n",
       "70    71     Deepak Hooda   LSG  1236.0   77.0   56.0   95.0     75.0   \n",
       "71    72  Ruturaj Gaikwad   CSK  1207.0  113.0   43.0   36.0     36.0   \n",
       "72    73     Kedar Jadhav   SRH  1196.0  101.0   40.0   93.0     80.0   \n",
       "73    74     Irfan Pathan    GL  1139.0   87.0   37.0  103.0     82.0   \n",
       "74    75       Axar Patel    DC  1135.0   67.0   54.0  122.0     88.0   \n",
       "\n",
       "    Highest  100s   50s    Avg      SR  \n",
       "0     113.0   5.0  44.0  36.20  129.15  \n",
       "1     106.0   2.0  47.0  35.08  126.35  \n",
       "2     126.0   4.0  54.0  42.01  140.69  \n",
       "3     109.0   1.0  40.0  30.30  129.89  \n",
       "4     100.0   1.0  39.0  32.52  136.76  \n",
       "..      ...   ...   ...    ...     ...  \n",
       "70     64.0   0.0   7.0  20.26  132.05  \n",
       "71    101.0   1.0  10.0  37.72  130.35  \n",
       "72     69.0   0.0   4.0  22.15  123.17  \n",
       "73     60.0   0.0   1.0  21.49  120.40  \n",
       "74     44.0   0.0   0.0  19.24  128.83  \n",
       "\n",
       "[75 rows x 13 columns]"
      ]
     },
     "execution_count": 11,
     "metadata": {},
     "output_type": "execute_result"
    }
   ],
   "source": [
    "df['Highest'] = df['Highest'].astype(str).str.replace('*', '', regex=False)\n",
    "df['Highest'] = pd.to_numeric(df['Highest'], errors='coerce')\n",
    "\n",
    "df['Avg'] = df['Avg'].astype(float)\n",
    "df['SR'] = df['SR'].astype(float)\n",
    "df['Runs']=df['Runs'].astype(float)\n",
    "df['4s']=df['4s'].astype(float)\n",
    "df['6s']=df['6s'].astype(float)\n",
    "df['Mat']=df['Mat'].astype(float)\n",
    "df['Innings']=df['Innings'].astype(float)\n",
    "df['Highest']=df['Highest'].astype(float)\n",
    "df['100s']=df['100s'].astype(float)\n",
    "df['50s']=df['50s'].astype(float)\n",
    "df"
   ]
  },
  {
   "cell_type": "markdown",
   "id": "eacbc1e0",
   "metadata": {},
   "source": [
    "# Training and Testing Data"
   ]
  },
  {
   "cell_type": "code",
   "execution_count": null,
   "id": "13156b55",
   "metadata": {},
   "outputs": [],
   "source": [
    "#splitting the data into training and testing sets \n",
    "X=df[['4s','6s','Mat','Innings','Highest','100s','50s','Avg','SR']]\n",
    "y=df['Runs']"
   ]
  },
  {
   "cell_type": "code",
   "execution_count": 13,
   "id": "9f7a2bc5",
   "metadata": {},
   "outputs": [],
   "source": [
    "from sklearn.model_selection import train_test_split\n",
    "X_train,X_test,y_train,y_test=train_test_split(X,y,test_size=0.3,random_state=101)\n",
    "\n"
   ]
  },
  {
   "cell_type": "code",
   "execution_count": 14,
   "id": "a2a5bfa1",
   "metadata": {},
   "outputs": [
    {
     "data": {
      "text/html": [
       "<style>#sk-container-id-1 {color: black;}#sk-container-id-1 pre{padding: 0;}#sk-container-id-1 div.sk-toggleable {background-color: white;}#sk-container-id-1 label.sk-toggleable__label {cursor: pointer;display: block;width: 100%;margin-bottom: 0;padding: 0.3em;box-sizing: border-box;text-align: center;}#sk-container-id-1 label.sk-toggleable__label-arrow:before {content: \"▸\";float: left;margin-right: 0.25em;color: #696969;}#sk-container-id-1 label.sk-toggleable__label-arrow:hover:before {color: black;}#sk-container-id-1 div.sk-estimator:hover label.sk-toggleable__label-arrow:before {color: black;}#sk-container-id-1 div.sk-toggleable__content {max-height: 0;max-width: 0;overflow: hidden;text-align: left;background-color: #f0f8ff;}#sk-container-id-1 div.sk-toggleable__content pre {margin: 0.2em;color: black;border-radius: 0.25em;background-color: #f0f8ff;}#sk-container-id-1 input.sk-toggleable__control:checked~div.sk-toggleable__content {max-height: 200px;max-width: 100%;overflow: auto;}#sk-container-id-1 input.sk-toggleable__control:checked~label.sk-toggleable__label-arrow:before {content: \"▾\";}#sk-container-id-1 div.sk-estimator input.sk-toggleable__control:checked~label.sk-toggleable__label {background-color: #d4ebff;}#sk-container-id-1 div.sk-label input.sk-toggleable__control:checked~label.sk-toggleable__label {background-color: #d4ebff;}#sk-container-id-1 input.sk-hidden--visually {border: 0;clip: rect(1px 1px 1px 1px);clip: rect(1px, 1px, 1px, 1px);height: 1px;margin: -1px;overflow: hidden;padding: 0;position: absolute;width: 1px;}#sk-container-id-1 div.sk-estimator {font-family: monospace;background-color: #f0f8ff;border: 1px dotted black;border-radius: 0.25em;box-sizing: border-box;margin-bottom: 0.5em;}#sk-container-id-1 div.sk-estimator:hover {background-color: #d4ebff;}#sk-container-id-1 div.sk-parallel-item::after {content: \"\";width: 100%;border-bottom: 1px solid gray;flex-grow: 1;}#sk-container-id-1 div.sk-label:hover label.sk-toggleable__label {background-color: #d4ebff;}#sk-container-id-1 div.sk-serial::before {content: \"\";position: absolute;border-left: 1px solid gray;box-sizing: border-box;top: 0;bottom: 0;left: 50%;z-index: 0;}#sk-container-id-1 div.sk-serial {display: flex;flex-direction: column;align-items: center;background-color: white;padding-right: 0.2em;padding-left: 0.2em;position: relative;}#sk-container-id-1 div.sk-item {position: relative;z-index: 1;}#sk-container-id-1 div.sk-parallel {display: flex;align-items: stretch;justify-content: center;background-color: white;position: relative;}#sk-container-id-1 div.sk-item::before, #sk-container-id-1 div.sk-parallel-item::before {content: \"\";position: absolute;border-left: 1px solid gray;box-sizing: border-box;top: 0;bottom: 0;left: 50%;z-index: -1;}#sk-container-id-1 div.sk-parallel-item {display: flex;flex-direction: column;z-index: 1;position: relative;background-color: white;}#sk-container-id-1 div.sk-parallel-item:first-child::after {align-self: flex-end;width: 50%;}#sk-container-id-1 div.sk-parallel-item:last-child::after {align-self: flex-start;width: 50%;}#sk-container-id-1 div.sk-parallel-item:only-child::after {width: 0;}#sk-container-id-1 div.sk-dashed-wrapped {border: 1px dashed gray;margin: 0 0.4em 0.5em 0.4em;box-sizing: border-box;padding-bottom: 0.4em;background-color: white;}#sk-container-id-1 div.sk-label label {font-family: monospace;font-weight: bold;display: inline-block;line-height: 1.2em;}#sk-container-id-1 div.sk-label-container {text-align: center;}#sk-container-id-1 div.sk-container {/* jupyter's `normalize.less` sets `[hidden] { display: none; }` but bootstrap.min.css set `[hidden] { display: none !important; }` so we also need the `!important` here to be able to override the default hidden behavior on the sphinx rendered scikit-learn.org. See: https://github.com/scikit-learn/scikit-learn/issues/21755 */display: inline-block !important;position: relative;}#sk-container-id-1 div.sk-text-repr-fallback {display: none;}</style><div id=\"sk-container-id-1\" class=\"sk-top-container\"><div class=\"sk-text-repr-fallback\"><pre>LinearRegression()</pre><b>In a Jupyter environment, please rerun this cell to show the HTML representation or trust the notebook. <br />On GitHub, the HTML representation is unable to render, please try loading this page with nbviewer.org.</b></div><div class=\"sk-container\" hidden><div class=\"sk-item\"><div class=\"sk-estimator sk-toggleable\"><input class=\"sk-toggleable__control sk-hidden--visually\" id=\"sk-estimator-id-1\" type=\"checkbox\" checked><label for=\"sk-estimator-id-1\" class=\"sk-toggleable__label sk-toggleable__label-arrow\">LinearRegression</label><div class=\"sk-toggleable__content\"><pre>LinearRegression()</pre></div></div></div></div></div>"
      ],
      "text/plain": [
       "LinearRegression()"
      ]
     },
     "execution_count": 14,
     "metadata": {},
     "output_type": "execute_result"
    }
   ],
   "source": [
    "#Training the Model\n",
    "from sklearn.linear_model import LinearRegression\n",
    "lm=LinearRegression()\n",
    "lm.fit(X_train,y_train)"
   ]
  },
  {
   "cell_type": "markdown",
   "id": "1c17bafd",
   "metadata": {},
   "source": [
    "# Predicting Test Data"
   ]
  },
  {
   "cell_type": "code",
   "execution_count": null,
   "id": "ddff0b40",
   "metadata": {},
   "outputs": [],
   "source": [
    "Predictions = lm.predict(X_test)\n",
    "Predictions\n"
   ]
  },
  {
   "cell_type": "code",
   "execution_count": 16,
   "id": "b23f3ada",
   "metadata": {},
   "outputs": [
    {
     "data": {
      "text/plain": [
       "2     5881.0\n",
       "37    2334.0\n",
       "16    3526.0\n",
       "14    3874.0\n",
       "27    2728.0\n",
       "65    1329.0\n",
       "53    1692.0\n",
       "13    3889.0\n",
       "21    2848.0\n",
       "6     4978.0\n",
       "46    2029.0\n",
       "45    2035.0\n",
       "22    2838.0\n",
       "58    1554.0\n",
       "25    2764.0\n",
       "24    2776.0\n",
       "26    2750.0\n",
       "3     5879.0\n",
       "33    2455.0\n",
       "69    1260.0\n",
       "1     6244.0\n",
       "30    2502.0\n",
       "39    2319.0\n",
       "Name: Runs, dtype: float64"
      ]
     },
     "execution_count": 16,
     "metadata": {},
     "output_type": "execute_result"
    }
   ],
   "source": [
    "#orginal values\n",
    "y_test\n"
   ]
  },
  {
   "cell_type": "code",
   "execution_count": 17,
   "id": "ee257589",
   "metadata": {},
   "outputs": [
    {
     "data": {
      "image/png": "[encoded data removed]",
      "text/plain": [
       "<Figure size 640x480 with 1 Axes>"
      ]
     },
     "metadata": {},
     "output_type": "display_data"
    }
   ],
   "source": [
    "plt.scatter(y_test,Predictions)\n",
    "plt.xlabel('y_test')\n",
    "plt.ylabel('Predictions')\n",
    "plt.show()"
   ]
  },
  {
   "cell_type": "markdown",
   "id": "1b802471",
   "metadata": {},
   "source": [
    "# Evaluating the Model"
   ]
  },
  {
   "cell_type": "code",
   "execution_count": null,
   "id": "9c7cb2fe",
   "metadata": {},
   "outputs": [],
   "source": [
    "from sklearn import metrics"
   ]
  },
  {
   "cell_type": "code",
   "execution_count": 19,
   "id": "7631cfaf",
   "metadata": {},
   "outputs": [
    {
     "name": "stdout",
     "output_type": "stream",
     "text": [
      "Mean Absolute Error: 91.02705494630827\n",
      "Mean Squared Error: 14788.626448020217\n",
      "R-squared: 0.9926056356164934\n"
     ]
    }
   ],
   "source": [
    "print('Mean Absolute Error:', metrics.mean_absolute_error(y_test, Predictions))\n",
    "print('Mean Squared Error:', metrics.mean_squared_error(y_test, Predictions))\n",
    "print('R-squared:', metrics.r2_score(y_test, Predictions))\n"
   ]
  },
  {
   "cell_type": "code",
   "execution_count": 20,
   "id": "d31e8599",
   "metadata": {},
   "outputs": [
    {
     "data": {
      "text/html": [
       "<div>\n",
       "<style scoped>\n",
       "    .dataframe tbody tr th:only-of-type {\n",
       "        vertical-align: middle;\n",
       "    }\n",
       "\n",
       "    .dataframe tbody tr th {\n",
       "        vertical-align: top;\n",
       "    }\n",
       "\n",
       "    .dataframe thead th {\n",
       "        text-align: right;\n",
       "    }\n",
       "</style>\n",
       "<table border=\"1\" class=\"dataframe\">\n",
       "  <thead>\n",
       "    <tr style=\"text-align: right;\">\n",
       "      <th></th>\n",
       "      <th>df</th>\n",
       "    </tr>\n",
       "  </thead>\n",
       "  <tbody>\n",
       "    <tr>\n",
       "      <th>4s</th>\n",
       "      <td>2.974689</td>\n",
       "    </tr>\n",
       "    <tr>\n",
       "      <th>6s</th>\n",
       "      <td>2.714421</td>\n",
       "    </tr>\n",
       "    <tr>\n",
       "      <th>Mat</th>\n",
       "      <td>-5.355200</td>\n",
       "    </tr>\n",
       "    <tr>\n",
       "      <th>Innings</th>\n",
       "      <td>17.971800</td>\n",
       "    </tr>\n",
       "    <tr>\n",
       "      <th>Highest</th>\n",
       "      <td>-1.552158</td>\n",
       "    </tr>\n",
       "    <tr>\n",
       "      <th>100s</th>\n",
       "      <td>72.281913</td>\n",
       "    </tr>\n",
       "    <tr>\n",
       "      <th>50s</th>\n",
       "      <td>25.677839</td>\n",
       "    </tr>\n",
       "    <tr>\n",
       "      <th>Avg</th>\n",
       "      <td>18.273217</td>\n",
       "    </tr>\n",
       "    <tr>\n",
       "      <th>SR</th>\n",
       "      <td>-5.167305</td>\n",
       "    </tr>\n",
       "  </tbody>\n",
       "</table>\n",
       "</div>"
      ],
      "text/plain": [
       "                df\n",
       "4s        2.974689\n",
       "6s        2.714421\n",
       "Mat      -5.355200\n",
       "Innings  17.971800\n",
       "Highest  -1.552158\n",
       "100s     72.281913\n",
       "50s      25.677839\n",
       "Avg      18.273217\n",
       "SR       -5.167305"
      ]
     },
     "execution_count": 20,
     "metadata": {},
     "output_type": "execute_result"
    }
   ],
   "source": [
    "coeff_df = pd.DataFrame(lm.coef_,X.columns,columns=['df'])\n",
    "coeff_df\n"
   ]
  },
  {
   "cell_type": "code",
   "execution_count": 21,
   "id": "c4acaeb2",
   "metadata": {},
   "outputs": [
    {
     "data": {
      "image/png": "[encoded data removed]",
      "text/plain": [
       "<Figure size 500x500 with 1 Axes>"
      ]
     },
     "metadata": {},
     "output_type": "display_data"
    }
   ],
   "source": [
    "import seaborn as sns\n",
    "import matplotlib.pyplot as plt\n",
    "\n",
    "# Calculate residuals\n",
    "residuals = y_test - Predictions\n",
    "\n",
    "# Plot using displot\n",
    "sns.displot(residuals, bins=30, kde=True)  # kde=True adds a Kernel Density Estimate (optional)\n",
    "plt.xlabel('Residuals')\n",
    "plt.ylabel('Frequency')\n",
    "plt.title('Distribution of Residuals')\n",
    "plt.show()"
   ]
  },
  {
   "cell_type": "code",
   "execution_count": null,
   "id": "0b734566",
   "metadata": {},
   "outputs": [],
   "source": []
  }
 ],
 "metadata": {
  "kernelspec": {
   "display_name": "Python 3 (ipykernel)",
   "language": "python",
   "name": "python3"
  },
  "language_info": {
   "codemirror_mode": {
    "name": "ipython",
    "version": 3
   },
   "file_extension": ".py",
   "mimetype": "text/x-python",
   "name": "python",
   "nbconvert_exporter": "python",
   "pygments_lexer": "ipython3",
   "version": "3.10.9"
  }
 },
 "nbformat": 4,
 "nbformat_minor": 5
}
